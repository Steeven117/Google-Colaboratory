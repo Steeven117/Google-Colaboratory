{
  "nbformat": 4,
  "nbformat_minor": 0,
  "metadata": {
    "colab": {
      "provenance": [],
      "authorship_tag": "ABX9TyP39JTTjjc+VIUpqviUfypX",
      "include_colab_link": true
    },
    "kernelspec": {
      "name": "python3",
      "display_name": "Python 3"
    },
    "language_info": {
      "name": "python"
    }
  },
  "cells": [
    {
      "cell_type": "markdown",
      "metadata": {
        "id": "view-in-github",
        "colab_type": "text"
      },
      "source": [
        "<a href=\"https://colab.research.google.com/github/Steeven117/Google-Colaboratory/blob/main/Series_for.ipynb\" target=\"_parent\"><img src=\"https://colab.research.google.com/assets/colab-badge.svg\" alt=\"Open In Colab\"/></a>"
      ]
    },
    {
      "cell_type": "markdown",
      "source": [
        "SERIES USANDO EL FOR  "
      ],
      "metadata": {
        "id": "emhnUY3xGTeu"
      }
    },
    {
      "cell_type": "code",
      "source": [
        "# Series 1: 1, 2, 3, 4, 5, 6, 7, 8, 9,10\n",
        "\n",
        "print(\"-------------------------------\")\n",
        "print(\"-----------SERIES 1------------\")\n",
        "print(\"-------------------------------\")\n",
        "\n",
        "S = \"Series: \"\n",
        "for i in range(1,11):\n",
        "  S =S +str(i) + \", \"\n",
        "print(S)"
      ],
      "metadata": {
        "colab": {
          "base_uri": "https://localhost:8080/"
        },
        "id": "5-YkmRN3Gyo-",
        "outputId": "da583087-326d-4a27-b849-7524fd8db628"
      },
      "execution_count": 3,
      "outputs": [
        {
          "output_type": "stream",
          "name": "stdout",
          "text": [
            "-------------------------------\n",
            "-----------SERIES 1------------\n",
            "-------------------------------\n",
            "Series: 1, 2, 3, 4, 5, 6, 7, 8, 9, 10, \n"
          ]
        }
      ]
    }
  ]
}