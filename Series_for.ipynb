{
  "nbformat": 4,
  "nbformat_minor": 0,
  "metadata": {
    "colab": {
      "provenance": [],
      "authorship_tag": "ABX9TyOcNFF4hFplQeggMGZbXrnI",
      "include_colab_link": true
    },
    "kernelspec": {
      "name": "python3",
      "display_name": "Python 3"
    },
    "language_info": {
      "name": "python"
    }
  },
  "cells": [
    {
      "cell_type": "markdown",
      "metadata": {
        "id": "view-in-github",
        "colab_type": "text"
      },
      "source": [
        "<a href=\"https://colab.research.google.com/github/Steeven117/Google-Colaboratory/blob/main/Series_for.ipynb\" target=\"_parent\"><img src=\"https://colab.research.google.com/assets/colab-badge.svg\" alt=\"Open In Colab\"/></a>"
      ]
    },
    {
      "cell_type": "markdown",
      "source": [
        "SERIES USANDO EL FOR  "
      ],
      "metadata": {
        "id": "emhnUY3xGTeu"
      }
    },
    {
      "cell_type": "code",
      "source": [
        "# Series 1: 1, 2, 3, 4, 5, 6, 7, 8, 9,10\n",
        "\n",
        "print(\"-------------------------------\")\n",
        "print(\"-----------SERIES 1------------\")\n",
        "print(\"-------------------------------\")\n",
        "\n",
        "S = \"Series: \"\n",
        "for i in range(1,11):\n",
        "  S =S +str(i) + \", \"\n",
        "S = S + \")\"\n",
        "print(S)"
      ],
      "metadata": {
        "colab": {
          "base_uri": "https://localhost:8080/"
        },
        "id": "5-YkmRN3Gyo-",
        "outputId": "da583087-326d-4a27-b849-7524fd8db628"
      },
      "execution_count": 3,
      "outputs": [
        {
          "output_type": "stream",
          "name": "stdout",
          "text": [
            "-------------------------------\n",
            "-----------SERIES 1------------\n",
            "-------------------------------\n",
            "Series: 1, 2, 3, 4, 5, 6, 7, 8, 9, 10, \n"
          ]
        }
      ]
    },
    {
      "cell_type": "code",
      "source": [
        "# Serie 2: 1, 4, 9, 16, 25, 36, 49, 64, 81, ...\n",
        "\n",
        "print(\"-------------------------------\")\n",
        "print(\"-----------SERIES 2------------\")\n",
        "print(\"-------------------------------\")\n",
        "\n",
        "S = \"Series: \"\n",
        "for i in range(1,11):\n",
        "  if i!=10: \n",
        "    S =S +str(i**2) + \", \"\n",
        "  else:\n",
        "    S =S +str(i**2)\n",
        "S = S + \")\"\n",
        "print(S)"
      ],
      "metadata": {
        "colab": {
          "base_uri": "https://localhost:8080/"
        },
        "id": "5oZE59XxJBuN",
        "outputId": "ff6835a9-8f59-4732-eddb-27d7b78e3605"
      },
      "execution_count": 7,
      "outputs": [
        {
          "output_type": "stream",
          "name": "stdout",
          "text": [
            "-------------------------------\n",
            "-----------SERIES 2------------\n",
            "-------------------------------\n",
            "Series: 1, 4, 9, 16, 25, 36, 49, 64, 81, 100)\n"
          ]
        }
      ]
    },
    {
      "cell_type": "code",
      "source": [
        "# Serie 3: 2, 4, 8, 16, 32, 64\n",
        "\n",
        "print(\"----------------------\")\n",
        "print(\"-------SERIE 3--------\")\n",
        "print(\"----------------------\")\n",
        "\n",
        "S = \"Series: \"\n",
        "for i in range(1,11):\n",
        "  if i!=10:\n",
        "    S =S+str(2**i) + \", \"\n",
        "  else:\n",
        "    S=S+str(2**i)\n",
        "S = S + \")\"\n",
        "print(S)\n"
      ],
      "metadata": {
        "colab": {
          "base_uri": "https://localhost:8080/"
        },
        "id": "qW3vsnnlN-sL",
        "outputId": "f1627c9a-a52f-4846-d56f-21c28c8ea161"
      },
      "execution_count": 12,
      "outputs": [
        {
          "output_type": "stream",
          "name": "stdout",
          "text": [
            "----------------------\n",
            "-------SERIE 3--------\n",
            "----------------------\n",
            "Series: 2, 4, 8, 16, 32, 64, 128, 256, 512, 1024)\n"
          ]
        }
      ]
    },
    {
      "cell_type": "code",
      "source": [
        "# Series 4: 2, 6, 12, 20, 30, 42, 56 , ...\n",
        "\n",
        "print(\"----------------------\")\n",
        "print(\"-------SERIE 4--------\")\n",
        "print(\"----------------------\")\n",
        "\n",
        "S = \"Series: \"\n",
        "for i in range(1,11):\n",
        "  if i!=10:\n",
        "    S =S+str(i**2+i) + \", \"\n",
        "  else:\n",
        "    S=S+str(i**2+i)\n",
        "S = S + \")\"\n",
        "print(S)\n"
      ],
      "metadata": {
        "colab": {
          "base_uri": "https://localhost:8080/"
        },
        "id": "G97B2TNXPm5y",
        "outputId": "120bcdb4-5a3f-4209-e965-d766caa8174d"
      },
      "execution_count": 19,
      "outputs": [
        {
          "output_type": "stream",
          "name": "stdout",
          "text": [
            "----------------------\n",
            "-------SERIE 4--------\n",
            "----------------------\n",
            "Series: 2, 6, 12, 20, 30, 42, 56, 72, 90, 110)\n"
          ]
        }
      ]
    }
  ]
}